{
 "cells": [
  {
   "cell_type": "code",
   "execution_count": 1,
   "metadata": {},
   "outputs": [],
   "source": [
    "import os\n",
    "import numpy as np\n",
    "HOUSING_PATH = os.path.join(\"datasets\", \"housing\")\n",
    "import pandas as pd\n",
    "def load_housing_data(housing_path=HOUSING_PATH):\n",
    "    csv_path = os.path.join(housing_path, \"housing.csv\")\n",
    "    return pd.read_csv(csv_path)\n",
    "\n",
    "dataset = load_housing_data(housing_path=HOUSING_PATH)"
   ]
  },
  {
   "cell_type": "markdown",
   "metadata": {},
   "source": [
    "Data Preparation"
   ]
  },
  {
   "cell_type": "code",
   "execution_count": 2,
   "metadata": {},
   "outputs": [],
   "source": [
    "#Lib to categorial atributes\n",
    "from sklearn.preprocessing import OneHotEncoder\n",
    "cat_encoder = OneHotEncoder()\n",
    "\n",
    "#mission values\n",
    "from sklearn.impute import SimpleImputer\n",
    "imputer = SimpleImputer(strategy=\"median\")\n",
    "\n",
    "#Custom Transformer\n",
    "from sklearn.base import BaseEstimator, TransformerMixin\n",
    "rooms_ix, bedrooms_ix, population_ix, households_ix = 3, 4, 5, 6\n",
    "class CombinedAttributesAdder(BaseEstimator, TransformerMixin):\n",
    "    def __init__(self, add_bedrooms_per_room = True): # no *args or **kargs\n",
    "        self.add_bedrooms_per_room = add_bedrooms_per_room\n",
    "    def fit(self, X, y=None):\n",
    "        return self # nothing else to do\n",
    "    def transform(self, X, y=None):\n",
    "        rooms_per_household = X[:, rooms_ix] / X[:, households_ix]\n",
    "        population_per_household = X[:, population_ix] / X[:, households_ix]\n",
    "        if self.add_bedrooms_per_room:\n",
    "            bedrooms_per_room = X[:, bedrooms_ix] / X[:, rooms_ix]\n",
    "            return np.c_[X, rooms_per_household, population_per_household,bedrooms_per_room]\n",
    "        else:\n",
    "            return np.c_[X, rooms_per_household, population_per_household]"
   ]
  },
  {
   "cell_type": "code",
   "execution_count": 3,
   "metadata": {},
   "outputs": [],
   "source": [
    "from sklearn.pipeline import Pipeline\n",
    "from sklearn.preprocessing import StandardScaler\n",
    "from sklearn.compose import ColumnTransformer\n",
    "\n",
    "y = dataset['median_house_value'].values\n",
    "housing = dataset.drop(\"median_house_value\", axis=1)\n",
    "housing_num = housing.drop(\"ocean_proximity\", axis=1)\n",
    "\n",
    "num_pipeline = Pipeline([\n",
    " ('imputer', SimpleImputer(strategy=\"median\")), #missin values\n",
    " ('attribs_adder', CombinedAttributesAdder()), #creating new attributes\n",
    " ('std_scaler', StandardScaler()), # scaling\n",
    " ])\n",
    "\n",
    "\n",
    "num_attribs = list(housing_num)\n",
    "cat_attribs = [\"ocean_proximity\"]\n",
    "full_pipeline = ColumnTransformer([\n",
    " (\"num\", num_pipeline, num_attribs), #num_pipeline\n",
    " (\"cat\", OneHotEncoder(), cat_attribs), #one hot encoder\n",
    " ])\n",
    "housing_prepared = full_pipeline.fit_transform(housing)\n"
   ]
  },
  {
   "cell_type": "markdown",
   "metadata": {},
   "source": [
    "Split dataset into Training Set and Test Set\n"
   ]
  },
  {
   "cell_type": "code",
   "execution_count": 5,
   "metadata": {},
   "outputs": [],
   "source": [
    "from sklearn.model_selection import train_test_split\n",
    "\n",
    "y = dataset['median_house_value'].values\n",
    "X = housing_prepared.copy()\n",
    "X_train, X_test, y_train, y_test = train_test_split(X, y, test_size=0.2, random_state=42)"
   ]
  },
  {
   "cell_type": "markdown",
   "metadata": {},
   "source": [
    "LINEAR REGRESSION"
   ]
  },
  {
   "cell_type": "code",
   "execution_count": 27,
   "metadata": {},
   "outputs": [
    {
     "name": "stdout",
     "output_type": "stream",
     "text": [
      "EVALUATING LINEAR REGRESSION\n",
      "r2: 0.5970176824350761\n",
      "mean_squared_error (MSE): 5280716470.094017\n",
      "root_mean_squared_error (MSE): 72668.53837868226\n"
     ]
    }
   ],
   "source": [
    "#Training on the training set\n",
    "from sklearn.linear_model import LinearRegression\n",
    "lin_reg = LinearRegression()\n",
    "lin_reg.fit(X_train, y_train)\n",
    "\n",
    "#predicting the test results\n",
    "lin_reg_y_pred = lin_reg.predict(X_test)\n",
    "\n",
    "#Evaluating\n",
    "from sklearn.metrics import r2_score\n",
    "from sklearn.metrics import mean_squared_error\n",
    "\n",
    "print(\"EVALUATING LINEAR REGRESSION\")\n",
    "print(\"r2:\", r2_score(y_test, lin_reg_y_pred))\n",
    "print(\"mean_squared_error (MSE):\", mean_squared_error(y_test, lin_reg_y_pred))\n",
    "print(\"root_mean_squared_error (MSE):\", np.sqrt(mean_squared_error(y_test, lin_reg_y_pred)))"
   ]
  },
  {
   "cell_type": "markdown",
   "metadata": {},
   "source": [
    "DECISION TREE"
   ]
  },
  {
   "cell_type": "code",
   "execution_count": 28,
   "metadata": {},
   "outputs": [
    {
     "name": "stdout",
     "output_type": "stream",
     "text": [
      "EVALUATING DECISION TREES\n",
      "r2: 0.5907282938939291\n",
      "mean_squared_error (MSE): 5363133182.213663\n",
      "root_mean_squared_error (MSE): 73233.41574864349\n"
     ]
    }
   ],
   "source": [
    "from sklearn.tree import DecisionTreeRegressor\n",
    "tree_reg = DecisionTreeRegressor()\n",
    "tree_reg.fit(X_train, y_train)\n",
    "tree_reg_y_pred = tree_reg.predict(X_test)\n",
    "\n",
    "print(\"EVALUATING DECISION TREES\")\n",
    "print(\"r2:\", r2_score(y_test, tree_reg_y_pred))\n",
    "print(\"mean_squared_error (MSE):\", mean_squared_error(y_test, tree_reg_y_pred))\n",
    "print(\"root_mean_squared_error (MSE):\", np.sqrt(mean_squared_error(y_test, tree_reg_y_pred)))\n"
   ]
  },
  {
   "cell_type": "markdown",
   "metadata": {},
   "source": [
    "RANDOM FOREST"
   ]
  },
  {
   "cell_type": "code",
   "execution_count": 32,
   "metadata": {},
   "outputs": [
    {
     "name": "stdout",
     "output_type": "stream",
     "text": [
      "EVALUATING DECISION TREES\n",
      "r2: 0.8060541863466253\n",
      "mean_squared_error (MSE): 2541483355.036186\n",
      "root_mean_squared_error (MSE): 50413.12681272792\n"
     ]
    }
   ],
   "source": [
    "from sklearn.ensemble import RandomForestRegressor\n",
    "forest_reg = RandomForestRegressor()\n",
    "forest_reg.fit(X_train, y_train)\n",
    "random_reg_y_pred = forest_reg.predict(X_test)\n",
    "\n",
    "print(\"EVALUATING RANDOM FOREST\")\n",
    "print(\"r2:\", r2_score(y_test, random_reg_y_pred))\n",
    "print(\"mean_squared_error (MSE):\", mean_squared_error(y_test, random_reg_y_pred))\n",
    "print(\"root_mean_squared_error (MSE):\", np.sqrt(mean_squared_error(y_test, random_reg_y_pred)))"
   ]
  },
  {
   "cell_type": "markdown",
   "metadata": {},
   "source": [
    "RANDOM FOREST - HYPERPARAMETER TUNNING"
   ]
  },
  {
   "cell_type": "code",
   "execution_count": 35,
   "metadata": {},
   "outputs": [
    {
     "name": "stdout",
     "output_type": "stream",
     "text": [
      "grid_search.best_params_ :  {'max_features': 6, 'n_estimators': 30}\n",
      "grid_search.best_estimator_ :  RandomForestRegressor(max_features=6, n_estimators=30)\n"
     ]
    }
   ],
   "source": [
    "#GRID SEARCH\n",
    "from sklearn.model_selection import GridSearchCV\n",
    "\n",
    "param_grid = [\n",
    " {'n_estimators': [3, 10, 30], 'max_features': [2, 4, 6, 8]},\n",
    " {'bootstrap': [False], 'n_estimators': [3, 10], 'max_features': [2, 3, 4]},\n",
    " ]\n",
    "\n",
    "forest_reg = RandomForestRegressor()\n",
    "\n",
    "grid_search = GridSearchCV(forest_reg, param_grid, cv=5,scoring='neg_mean_squared_error', return_train_score=True)\n",
    "grid_search.fit(X_train, y_train)\n",
    "\n",
    "print(\"grid_search.best_params_ : \", grid_search.best_params_)\n",
    "print(\"grid_search.best_estimator_ : \", grid_search.best_estimator_)\n",
    "\n",
    "forest_grid_search_model = grid_search.best_estimator_\n",
    "forest_grid_search_predictions = forest_grid_search_model.predict(X_test)\n",
    "\n",
    "print(\"EVALUATING RANDOM FOREST - GRID SEARCH\")\n",
    "print(\"r2:\", r2_score(y_test, forest_grid_search_predictions))\n",
    "print(\"mean_squared_error (MSE):\", mean_squared_error(y_test, forest_grid_search_predictions))\n",
    "print(\"root_mean_squared_error (MSE):\", np.sqrt(mean_squared_error(y_test, forest_grid_search_predictions)))"
   ]
  }
 ],
 "metadata": {
  "kernelspec": {
   "display_name": "Python 3",
   "language": "python",
   "name": "python3"
  },
  "language_info": {
   "codemirror_mode": {
    "name": "ipython",
    "version": 3
   },
   "file_extension": ".py",
   "mimetype": "text/x-python",
   "name": "python",
   "nbconvert_exporter": "python",
   "pygments_lexer": "ipython3",
   "version": "3.12.0"
  }
 },
 "nbformat": 4,
 "nbformat_minor": 2
}
