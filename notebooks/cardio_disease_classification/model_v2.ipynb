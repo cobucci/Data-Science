{
 "cells": [
  {
   "cell_type": "code",
   "execution_count": 1,
   "metadata": {},
   "outputs": [],
   "source": [
    "# Libraries\n",
    "import pandas as pd\n",
    "from sklearn.model_selection import GridSearchCV, RandomizedSearchCV\n",
    "import time\n",
    "import numpy as np\n",
    "\n",
    "dataset = pd.read_csv(\"./datasets/heart_data.csv\")\n",
    "dataset.drop(columns=['index', 'id'], axis=1, inplace=True)\n"
   ]
  },
  {
   "cell_type": "markdown",
   "metadata": {},
   "source": [
    "# Preparing data"
   ]
  },
  {
   "cell_type": "code",
   "execution_count": 2,
   "metadata": {},
   "outputs": [],
   "source": [
    "from sklearn.pipeline import Pipeline\n",
    "from sklearn.preprocessing import StandardScaler\n",
    "from sklearn.compose import ColumnTransformer\n",
    "from sklearn.preprocessing import OneHotEncoder\n",
    "\n",
    "y = dataset['cardio'].values\n",
    "cardio = dataset.drop(['cardio'], axis=1)\n",
    "cat_attribs = ['gender','cholesterol', 'gluc', 'smoke', 'alco', 'active']\n",
    "cardio_num = cardio.drop(cat_attribs, axis=1)\n",
    "num_attribs = list(cardio_num)\n",
    "\n",
    "num_pipeline = Pipeline([('std_scaler', StandardScaler())])\n",
    "full_pipeline = ColumnTransformer([\n",
    " (\"num\", num_pipeline, num_attribs), #num_pipeline\n",
    " (\"cat\", OneHotEncoder(), cat_attribs), #one hot encoder\n",
    " ])\n",
    "cardio_prepared = full_pipeline.fit_transform(cardio)"
   ]
  },
  {
   "cell_type": "markdown",
   "metadata": {},
   "source": [
    "# Split into train and test set"
   ]
  },
  {
   "cell_type": "code",
   "execution_count": 3,
   "metadata": {},
   "outputs": [],
   "source": [
    "from sklearn.model_selection import train_test_split\n",
    "\n",
    "y = dataset['cardio'].values\n",
    "X = cardio_prepared.copy()\n",
    "X_train, X_test, y_train, y_test = train_test_split(X, y, test_size=0.2, random_state=42)"
   ]
  },
  {
   "cell_type": "markdown",
   "metadata": {},
   "source": [
    "# METRICS FUNCTION"
   ]
  },
  {
   "cell_type": "code",
   "execution_count": 4,
   "metadata": {},
   "outputs": [],
   "source": [
    "#!/usr/bin/env python3\n",
    "from sklearn.metrics import accuracy_score, precision_score, recall_score, f1_score, confusion_matrix, roc_auc_score\n",
    "import numpy as np\n",
    "def perfomance_metrics(classifier, y_, y_pred):\n",
    "    \n",
    "    accuracy = round(accuracy_score(y_, y_pred), 5)\n",
    "    precision = round(precision_score(y_, y_pred), 5)\n",
    "    recall = round(recall_score(y_, y_pred), 5)\n",
    "    f1 = round(f1_score(y_, y_pred), 5)\n",
    "    auc = round(roc_auc_score(y_, y_pred), 5)\n",
    "    \n",
    "    print(\"\\n\", classifier.__class__.__name__)\n",
    "    if hasattr(classifier, 'best_params_'):\n",
    "        print(\"Best Model: \", classifier.best_params_)\n",
    "    print(\"\\nConfusion Matrix:\\n\", confusion_matrix(y_, y_pred))\n",
    "    print(\"\\nAccuracy: \" , accuracy)\n",
    "    print(\"\\nPrecision: \", precision)\n",
    "    print(\"\\nRecall: \", recall)\n",
    "    print(\"\\nF1: \", f1)\n",
    "    print(\"\\nAUC: \", auc)\n",
    "\n",
    "    return np.array([classifier.__class__.__name__, accuracy, precision, recall, f1, auc])"
   ]
  },
  {
   "cell_type": "markdown",
   "metadata": {},
   "source": [
    "# LOGISTIC REGRESSION"
   ]
  },
  {
   "cell_type": "code",
   "execution_count": 5,
   "metadata": {},
   "outputs": [
    {
     "name": "stdout",
     "output_type": "stream",
     "text": [
      "Computation Time =  15.646891355514526\n",
      "\n",
      " RandomizedSearchCV\n",
      "Best Model:  {'solver': 'newton-cg', 'penalty': 'l2', 'C': 1}\n",
      "\n",
      "Confusion Matrix:\n",
      " [[5352 1636]\n",
      " [2253 4759]]\n",
      "\n",
      "Accuracy:  0.72221\n",
      "\n",
      "Precision:  0.74418\n",
      "\n",
      "Recall:  0.67869\n",
      "\n",
      "F1:  0.70993\n",
      "\n",
      "AUC:  0.72229\n"
     ]
    },
    {
     "data": {
      "text/plain": [
       "array(['RandomizedSearchCV', '0.72221', '0.74418', '0.67869', '0.70993',\n",
       "       '0.72229'], dtype='<U32')"
      ]
     },
     "execution_count": 5,
     "metadata": {},
     "output_type": "execute_result"
    }
   ],
   "source": [
    "from sklearn.linear_model import LogisticRegression\n",
    "start_time = time.time()\n",
    "\n",
    "#lbfgs - [l2, None]\n",
    "#liblinear - [l1, l2]\n",
    "#newton-cg - [l2, None]\n",
    "#newton-cholesky - [l2, None]\n",
    "#sag - [l2, None]\n",
    "#saga - [elasticnet, l1, l2, None]\n",
    "\n",
    "parameters = {  'penalty': ['l2'],\n",
    "                'C' : [0.01, 0.1, 0.3, 0.5,0.7, 1],\n",
    "                'solver': ['lbfgs', 'liblinear', 'newton-cg', 'newton-cholesky', 'saga'],\n",
    "                #'n_jobs': -1,\n",
    "                #'max_iter': [100, 120, 150, 200],\n",
    "            }\n",
    "\n",
    "logistic_regression_clf = RandomizedSearchCV(LogisticRegression(), parameters, cv=3, random_state=42, n_jobs=-1, error_score=0, n_iter=20)\n",
    "\n",
    "logistic_regression_clf.fit(X_train, y_train)\n",
    "y_pred = logistic_regression_clf.predict(X_test)\n",
    "\n",
    "duration = time.time() - start_time\n",
    "print(\"Computation Time = \", duration)\n",
    "perfomance_metrics(logistic_regression_clf, y_test, y_pred)"
   ]
  },
  {
   "cell_type": "code",
   "execution_count": 6,
   "metadata": {},
   "outputs": [
    {
     "data": {
      "text/plain": [
       "'newton-cg'"
      ]
     },
     "execution_count": 6,
     "metadata": {},
     "output_type": "execute_result"
    }
   ],
   "source": [
    "logistic_regression_clf.best_params_['solver']"
   ]
  },
  {
   "cell_type": "markdown",
   "metadata": {},
   "source": [
    "# DECISION TREE"
   ]
  },
  {
   "cell_type": "code",
   "execution_count": 7,
   "metadata": {},
   "outputs": [
    {
     "name": "stdout",
     "output_type": "stream",
     "text": [
      "{'criterion': ['gini', 'entropy'], 'splitter': ['best', 'random'], 'max_depth': [1, 3, 5, 7, 9, 11, 13, 15, 17, 19, 21, 23, 25, 27, 29], 'min_samples_split': [2, 4, 6, 8, 10, 12, 14, 16, 18, 20, 22, 24, 26, 28], 'min_samples_leaf': [1, 3, 5, 7, 9, 11, 13, 15, 17, 19, 21, 23, 25, 27, 29], 'max_leaf_nodes': [3, 5, 7, 9, 11, 13, 15, 17, 19, 21, 23, 25, 27, 29]}\n",
      "Computation Time =  3.4483869075775146\n",
      "\n",
      " RandomizedSearchCV\n",
      "Best Model:  {'splitter': 'best', 'min_samples_split': 28, 'min_samples_leaf': 9, 'max_leaf_nodes': 27, 'max_depth': 29, 'criterion': 'gini'}\n",
      "\n",
      "Confusion Matrix:\n",
      " [[5487 1501]\n",
      " [2200 4812]]\n",
      "\n",
      "Accuracy:  0.73564\n",
      "\n",
      "Precision:  0.76224\n",
      "\n",
      "Recall:  0.68625\n",
      "\n",
      "F1:  0.72225\n",
      "\n",
      "AUC:  0.73573\n"
     ]
    },
    {
     "data": {
      "text/plain": [
       "array(['RandomizedSearchCV', '0.73564', '0.76224', '0.68625', '0.72225',\n",
       "       '0.73573'], dtype='<U32')"
      ]
     },
     "execution_count": 7,
     "metadata": {},
     "output_type": "execute_result"
    }
   ],
   "source": [
    "from sklearn.tree import DecisionTreeClassifier\n",
    "\n",
    "start_time = time.time()\n",
    "\n",
    "parameters = {  'criterion':['gini','entropy'],\n",
    "                'splitter': ['best', 'random'],\n",
    "                'max_depth':np.arange(1,30).tolist()[0::2],\n",
    "                'min_samples_split':np.arange(1,30).tolist()[1::2],\n",
    "                'min_samples_leaf': np.arange(1,30).tolist()[0::2],\n",
    "                'max_leaf_nodes':np.arange(3,30).tolist()[0::2] }\n",
    "\n",
    "print(parameters)\n",
    "tree_clf = RandomizedSearchCV(DecisionTreeClassifier(), parameters, cv=3, n_iter=20, random_state=42, n_jobs=-1)\n",
    "\n",
    "tree_clf.fit(X_train, y_train)\n",
    "y_pred = tree_clf.predict(X_test)\n",
    "\n",
    "duration = time.time() - start_time\n",
    "print(\"Computation Time = \", duration)\n",
    "\n",
    "perfomance_metrics(tree_clf, y_test, y_pred)"
   ]
  },
  {
   "cell_type": "markdown",
   "metadata": {},
   "source": [
    "# Random Forest"
   ]
  },
  {
   "cell_type": "code",
   "execution_count": 9,
   "metadata": {},
   "outputs": [
    {
     "name": "stdout",
     "output_type": "stream",
     "text": [
      "Computation Time =  269.1619818210602\n",
      "\n",
      " RandomizedSearchCV\n",
      "Best Model:  {'n_estimators': 601, 'min_samples_split': 17, 'min_samples_leaf': 25, 'max_leaf_nodes': 19, 'max_features': None, 'max_depth': 11}\n",
      "\n",
      "Confusion Matrix:\n",
      " [[5491 1497]\n",
      " [2206 4806]]\n",
      "\n",
      "Accuracy:  0.7355\n",
      "\n",
      "Precision:  0.76249\n",
      "\n",
      "Recall:  0.6854\n",
      "\n",
      "F1:  0.72189\n",
      "\n",
      "AUC:  0.73559\n"
     ]
    },
    {
     "data": {
      "text/plain": [
       "array(['RandomizedSearchCV', '0.7355', '0.76249', '0.6854', '0.72189',\n",
       "       '0.73559'], dtype='<U32')"
      ]
     },
     "execution_count": 9,
     "metadata": {},
     "output_type": "execute_result"
    }
   ],
   "source": [
    "from sklearn.ensemble import RandomForestClassifier\n",
    "\n",
    "start_time = time.time()\n",
    "\n",
    "parameters = {  'n_estimators':np.arange(1,1000).tolist()[0::200],\n",
    "                'max_depth':np.arange(1,30).tolist()[0::2],\n",
    "                'min_samples_split':np.arange(2,30).tolist()[1::2],\n",
    "                'min_samples_leaf': np.arange(1,30).tolist()[0::2],\n",
    "                'max_leaf_nodes':np.arange(3,30).tolist()[0::2],\n",
    "                'max_features':  ['sqrt', 'log2', None] }\n",
    "\n",
    "random_forest_clf = RandomizedSearchCV(RandomForestClassifier(), parameters, cv=3, n_iter=10, random_state=42, n_jobs=-1)\n",
    "\n",
    "random_forest_clf.fit(X_train, y_train)\n",
    "y_pred = random_forest_clf.predict(X_test)\n",
    "\n",
    "duration = time.time() - start_time\n",
    "print(\"Computation Time = \", duration)\n",
    "\n",
    "perfomance_metrics(random_forest_clf, y_test, y_pred)"
   ]
  },
  {
   "cell_type": "markdown",
   "metadata": {},
   "source": [
    "# Bagging"
   ]
  },
  {
   "cell_type": "code",
   "execution_count": null,
   "metadata": {},
   "outputs": [],
   "source": [
    "from sklearn.ensemble import BaggingClassifier\n",
    "\n",
    "start_time = time.time()\n",
    "\n",
    "parameters = {  'estimator': [DecisionTreeClassifier(),RandomForestClassifier()],\n",
    "                    'n_estimators':np.arange(1,1000).tolist()[0::50],\n",
    "                    'max_samples' : np.arange(2,30).tolist()[1::2],\n",
    "                    'bootstrap_features': [True, False],\n",
    "                    'oob_score': [True, False]}\n",
    "\n",
    "\n",
    "bagging_clf = RandomizedSearchCV(BaggingClassifier(), parameters, cv=2, n_iter=10, random_state=42, n_jobs=-1)\n",
    "\n",
    "\n",
    "bagging_clf.fit(X_train, y_train)\n",
    "y_pred = bagging_clf.predict(X_test)\n",
    "\n",
    "duration = time.time() - start_time\n",
    "print(\"Computation Time = \", duration)\n",
    "\n",
    "perfomance_metrics(bagging_clf, y_test, y_pred)"
   ]
  },
  {
   "cell_type": "markdown",
   "metadata": {},
   "source": [
    "# Ada Boosting"
   ]
  },
  {
   "cell_type": "code",
   "execution_count": null,
   "metadata": {},
   "outputs": [],
   "source": [
    "from sklearn.ensemble import AdaBoostClassifier\n",
    "\n",
    "start_time = time.time()\n",
    "\n",
    "parameters = {'estimator': [DecisionTreeClassifier(),RandomForestClassifier()],\n",
    "                #'n_estimators':np.arange(1,1000).tolist()[0::100],\n",
    "                'learning_rate': [0.0001, 0.001, 0.005, 0.01, 0.02, 0.03, 0.05, 0.07, 1],\n",
    "                'algorithm' : ['SAMME', 'SAMME.R']}\n",
    "\n",
    "\n",
    "ada_clf = RandomizedSearchCV(AdaBoostClassifier(), parameters, cv=2, n_iter=10, random_state=42, n_jobs=-1)\n",
    "\n",
    "\n",
    "ada_clf.fit(X_train, y_train)\n",
    "y_pred = ada_clf.predict(X_test)\n",
    "\n",
    "duration = time.time() - start_time\n",
    "print(\"Computation Time = \", duration)\n",
    "\n",
    "perfomance_metrics(ada_clf, y_test, y_pred)\n"
   ]
  },
  {
   "cell_type": "markdown",
   "metadata": {},
   "source": [
    "# GRADIENT BOOSTING"
   ]
  },
  {
   "cell_type": "code",
   "execution_count": 10,
   "metadata": {},
   "outputs": [
    {
     "name": "stdout",
     "output_type": "stream",
     "text": [
      "Computation Time =  204.11541652679443\n",
      "\n",
      " RandomizedSearchCV\n",
      "Best Model:  {'min_samples_split': 27, 'min_samples_leaf': 19, 'max_features': None, 'max_depth': 7, 'loss': 'exponential', 'learning_rate': 0.02, 'criterion': 'friedman_mse'}\n",
      "\n",
      "Confusion Matrix:\n",
      " [[5504 1484]\n",
      " [2156 4856]]\n",
      "\n",
      "Accuracy:  0.74\n",
      "\n",
      "Precision:  0.76593\n",
      "\n",
      "Recall:  0.69253\n",
      "\n",
      "F1:  0.72738\n",
      "\n",
      "AUC:  0.74008\n"
     ]
    },
    {
     "data": {
      "text/plain": [
       "array(['RandomizedSearchCV', '0.74', '0.76593', '0.69253', '0.72738',\n",
       "       '0.74008'], dtype='<U32')"
      ]
     },
     "execution_count": 10,
     "metadata": {},
     "output_type": "execute_result"
    }
   ],
   "source": [
    "from sklearn.ensemble import GradientBoostingClassifier\n",
    "\n",
    "start_time = time.time()\n",
    "\n",
    "parameters = {  'loss': ['log_loss', 'exponential'],\n",
    "                'learning_rate': [0.0001, 0.001, 0.005, 0.01, 0.02, 0.03, 0.05, 0.07, 1],\n",
    "                'criterion': ['friedman_mse', 'squared_error'],\n",
    "                'min_samples_split':np.arange(2,30).tolist()[1::2],\n",
    "                'min_samples_leaf': np.arange(1,30).tolist()[0::2],\n",
    "                'max_depth':np.arange(1,30).tolist()[0::2],\n",
    "                'max_features':  ['sqrt', 'log2', None]}\n",
    "\n",
    "\n",
    "gradient_boosting_clf = RandomizedSearchCV(GradientBoostingClassifier(), parameters, cv=3, n_iter=10, random_state=42, n_jobs=-1)\n",
    "\n",
    "gradient_boosting_clf.fit(X_train, y_train)\n",
    "y_pred = gradient_boosting_clf.predict(X_test)\n",
    "\n",
    "duration = time.time() - start_time\n",
    "print(\"Computation Time = \", duration)\n",
    "\n",
    "perfomance_metrics(gradient_boosting_clf, y_test, y_pred)"
   ]
  },
  {
   "cell_type": "code",
   "execution_count": null,
   "metadata": {},
   "outputs": [],
   "source": [
    "# Voting Classifier"
   ]
  },
  {
   "cell_type": "code",
   "execution_count": 11,
   "metadata": {},
   "outputs": [
    {
     "name": "stdout",
     "output_type": "stream",
     "text": [
      "\n",
      " VotingClassifier\n",
      "\n",
      "Confusion Matrix:\n",
      " [[5614 1374]\n",
      " [2322 4690]]\n",
      "\n",
      "Accuracy:  0.736\n",
      "\n",
      "Precision:  0.77342\n",
      "\n",
      "Recall:  0.66885\n",
      "\n",
      "F1:  0.71734\n",
      "\n",
      "AUC:  0.73612\n"
     ]
    },
    {
     "data": {
      "text/plain": [
       "array(['VotingClassifier', '0.736', '0.77342', '0.66885', '0.71734',\n",
       "       '0.73612'], dtype='<U32')"
      ]
     },
     "execution_count": 11,
     "metadata": {},
     "output_type": "execute_result"
    }
   ],
   "source": [
    "from sklearn.ensemble import RandomForestClassifier\n",
    "from sklearn.ensemble import VotingClassifier\n",
    "from sklearn.linear_model import LogisticRegression\n",
    "from sklearn.tree import DecisionTreeClassifier\n",
    "from sklearn.ensemble import GradientBoostingClassifier\n",
    "\n",
    "\n",
    "vt_lr_clf = LogisticRegression(solver=logistic_regression_clf.best_params_['solver'], \n",
    "                                                penalty= logistic_regression_clf.best_params_['penalty'], \n",
    "                                                C=logistic_regression_clf.best_params_['C'])\n",
    "\n",
    "vt_dt_clf = DecisionTreeClassifier(splitter=tree_clf.best_params_['splitter'], \n",
    "                                      min_samples_split=tree_clf.best_params_['min_samples_split'],\n",
    "                                      min_samples_leaf=tree_clf.best_params_['min_samples_leaf'],\n",
    "                                      max_leaf_nodes=tree_clf.best_params_['max_leaf_nodes'], \n",
    "                                      max_depth=tree_clf.best_params_['max_depth'],\n",
    "                                      criterion=tree_clf.best_params_['criterion']\n",
    "                                    )\n",
    "\n",
    "vt_rf_clf = RandomForestClassifier(n_estimators=random_forest_clf.best_params_['n_estimators'],\n",
    "                                  min_samples_split=random_forest_clf.best_params_['min_samples_split'],\n",
    "                                  min_samples_leaf=random_forest_clf.best_params_['min_samples_leaf'],\n",
    "                                  max_leaf_nodes=random_forest_clf.best_params_['max_leaf_nodes'],\n",
    "                                  max_features=random_forest_clf.best_params_['max_features'],\n",
    "                                  max_depth=random_forest_clf.best_params_['max_depth']\n",
    "                                )\n",
    "\n",
    "vt_gb_clf = GradientBoostingClassifier(loss=gradient_boosting_clf.best_params_['loss'],\n",
    "                                    learning_rate=gradient_boosting_clf.best_params_['learning_rate'],\n",
    "                                    #n_estimators=gradient_boosting_clf.best_params_['n_estimators'],\n",
    "                                    criterion=gradient_boosting_clf.best_params_['criterion'],\n",
    "                                    min_samples_split=gradient_boosting_clf.best_params_['min_samples_split'],\n",
    "                                    min_samples_leaf=gradient_boosting_clf.best_params_['min_samples_leaf'],\n",
    "                                    max_depth=gradient_boosting_clf.best_params_['max_depth'],\n",
    "                                    max_features=gradient_boosting_clf.best_params_['max_features']\n",
    "                                  )\n",
    "\n",
    "voting_clf = VotingClassifier(estimators=[('lr', vt_lr_clf), ('tree', vt_dt_clf), ('rf', vt_rf_clf), ('gb', vt_gb_clf)], voting='hard', n_jobs=-1)\n",
    "voting_clf.fit(X_train, y_train)\n",
    "y_pred = voting_clf.predict(X_test)\n",
    "\n",
    "perfomance_metrics(voting_clf, y_test, y_pred)\n"
   ]
  },
  {
   "cell_type": "markdown",
   "metadata": {},
   "source": [
    "# XGB Classifier"
   ]
  },
  {
   "cell_type": "code",
   "execution_count": null,
   "metadata": {},
   "outputs": [],
   "source": [
    "parameters = {\n",
    "    'eta': [0.001, 0.05, 0.1, 0.3, 0.5, 0.7, 0.9],\n",
    "    \n",
    "}\n",
    "import xgboost as xgb \n",
    "import time\n",
    "from sklearn.model_selection import GridSearchCV, RandomizedSearchCV\n",
    "import numpy as np\n",
    "    \n",
    "start_time = time.time()\n",
    "\n",
    "parameters = {\n",
    "    'eta': [0.001, 0.05, 0.1, 0.3, 0.5, 0.7, 0.9],\n",
    "    'max_depth': np.arange(2,20).tolist()[1::2]\n",
    "}\n",
    "\n",
    "xgb_clf = RandomizedSearchCV(xgb.XGBClassifier(), parameters, cv=3, n_iter=10, random_state=42, n_jobs=-1)\n",
    "\n",
    "\n",
    "xgb_clf.fit(X_train, y_train)\n",
    "y_pred = xgb_clf.predict(X_test)\n",
    "\n",
    "duration = time.time() - start_time\n",
    "print(\"Computation Time = \", duration)\n",
    "\n",
    "print(perfomance_metrics(xgb_clf, y_test, y_pred))\n"
   ]
  },
  {
   "cell_type": "code",
   "execution_count": 32,
   "metadata": {},
   "outputs": [
    {
     "name": "stdout",
     "output_type": "stream",
     "text": [
      "\n",
      " RandomizedSearchCV\n",
      "Best Model:  {'max_depth': 3, 'eta': 0.5}\n",
      "\n",
      "Confusion Matrix:\n",
      " [[5361 1627]\n",
      " [2041 4971]]\n",
      "\n",
      "Accuracy:  0.738\n",
      "\n",
      "Precision:  0.75341\n",
      "\n",
      "Recall:  0.70893\n",
      "\n",
      "F1:  0.73049\n",
      "\n",
      "AUC:  0.73805\n",
      "['RandomizedSearchCV' '0.738' '0.75341' '0.70893' '0.73049' '0.73805']\n"
     ]
    }
   ],
   "source": [
    "print(perfomance_metrics(xgb_clf, y_test, y_pred))"
   ]
  }
 ],
 "metadata": {
  "kernelspec": {
   "display_name": "Python 3",
   "language": "python",
   "name": "python3"
  },
  "language_info": {
   "codemirror_mode": {
    "name": "ipython",
    "version": 3
   },
   "file_extension": ".py",
   "mimetype": "text/x-python",
   "name": "python",
   "nbconvert_exporter": "python",
   "pygments_lexer": "ipython3",
   "version": "3.12.0"
  }
 },
 "nbformat": 4,
 "nbformat_minor": 2
}
